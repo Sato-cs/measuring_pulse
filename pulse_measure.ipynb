{
 "cells": [
  {
   "cell_type": "code",
   "execution_count": 19,
   "metadata": {
    "scrolled": false
   },
   "outputs": [
    {
     "data": {
      "image/png": "[encoded data removed]",
      "text/plain": [
       "<Figure size 432x288 with 1 Axes>"
      ]
     },
     "metadata": {
      "needs_background": "light"
     },
     "output_type": "display_data"
    },
    {
     "name": "stdout",
     "output_type": "stream",
     "text": [
      "測定結果: 58.33\n"
     ]
    }
   ],
   "source": [
    "# OpenCV のインポート\n",
    "from PIL import Image\n",
    "import numpy as np\n",
    "import matplotlib.pyplot as plt\n",
    "from time import sleep\n",
    "import cv2\n",
    "\n",
    "#変数の設定\n",
    "x = np.array([0]*120)\n",
    "y = 0\n",
    "z = np.arange(120)\n",
    "\n",
    "# VideoCaptureのインスタンスを作成する。\n",
    "cap = cv2.VideoCapture(0)\n",
    "\n",
    "while True:\n",
    "    # VideoCaptureから1フレーム読み込む\n",
    "    ret, frame = cap.read()\n",
    "    cv2.putText(frame, 'Put yor finger onto the camera,', (0,40), cv2.FONT_HERSHEY_PLAIN, 2, (0, 255,0), 3, cv2.LINE_AA)\n",
    "    cv2.putText(frame, 'then push ESC key.', (0,450), cv2.FONT_HERSHEY_PLAIN, 2, (0, 255,0), 3, cv2.LINE_AA)\n",
    "    frame = cv2.resize(frame, (int(frame.shape[1]/2), int(frame.shape[0]/2)))\n",
    "    \n",
    "    cv2.imshow('Raw Frame', frame)\n",
    "\n",
    "    #キー入力を1ms待って、k が27（ESC）だったらBreakする\n",
    "    k = cv2.waitKey(1)\n",
    "    if k == 27:\n",
    "        break\n",
    "\n",
    "while True:\n",
    "\n",
    "    # VideoCaptureから1フレーム読み込む\n",
    "    ret, frame = cap.read()\n",
    "    cv2.putText(frame, 'measuring now.', (0,40), cv2.FONT_HERSHEY_PLAIN, 2, (0, 255,0), 3, cv2.LINE_AA)\n",
    "    frame = cv2.resize(frame, (int(frame.shape[1]/2), int(frame.shape[0]/2)))\n",
    "    cv2.imshow('Raw Frame', frame)\n",
    "\n",
    "    if y < 120: #指定回数だけ取得\n",
    "        x[y] = frame[80,160,1]/4 + frame[160,160,1]/4+ frame[80,140,1]/4+ frame[160,140,1]/4  # 画像中央付近の緑色成分を取得\n",
    "        y = y + 1\n",
    "    else:\n",
    "        break\n",
    "\n",
    "    #キー入力を1ms待って、k が27（ESC）だったらBreakする\n",
    "    k = cv2.waitKey(1)\n",
    "    if k == 27:\n",
    "        break\n",
    "        \n",
    "# 測定結果の計算\n",
    "x2 = np.array([0]*120)\n",
    "# 測定値を重み付きの平均値フィルタにかける\n",
    "for i in range(120):\n",
    "    if i-1 > -1 and i+1 < 120:\n",
    "        x2[i] = x[i+1]/4 +x[i]/2+ x[i-1]/4\n",
    "    elif i==0:\n",
    "        x2[i] = x[i+1]/2 +x[i]/2\n",
    "    else:\n",
    "        x2[i] = x[i]/2 + x[i-1]/2\n",
    "sleep(0.5)\n",
    "plt.plot(z, x2, color =\"magenta\") #測定された輝度のグラフを表示\n",
    "plt.show()\n",
    "sleep(0.5)\n",
    "pul = 0\n",
    "# 測定値のうち、極小値のようになる部分を判定\n",
    "for i in range(1,119):\n",
    "    if x2[i-1]-x2[i]>0 and x2[i+1]-x2[i]>0: #グラフのボトムの判定\n",
    "        pul = pul + 1 #測定時間での鼓動回数\n",
    "pul = pul * 10**3 / 120 #一分あたりに変換\n",
    "print(\"測定結果:\",round(pul,2))\n",
    "\n",
    "while True:\n",
    "    # VideoCaptureから1フレーム読み込む\n",
    "    ret, frame = cap.read()\n",
    "    cv2.putText(frame, 'Your pulse is '+ str(round(pul,2)), (0,40), cv2.FONT_HERSHEY_PLAIN, 2, (0, 255,0), 3, cv2.LINE_AA)\n",
    "    cv2.putText(frame, 'push ESC key.', (0,450), cv2.FONT_HERSHEY_PLAIN, 2, (0, 255,0), 3, cv2.LINE_AA)\n",
    "    frame = cv2.resize(frame, (int(frame.shape[1]/2), int(frame.shape[0]/2)))\n",
    "    \n",
    "    cv2.imshow('Raw Frame', frame)\n",
    "\n",
    "    #キー入力を1ms待って、k が27（ESC）だったらBreakする\n",
    "    k = cv2.waitKey(1)\n",
    "    if k == 27:\n",
    "        break\n",
    "\n",
    "# キャプチャをリリースして、ウィンドウをすべて閉じる\n",
    "cap.release()\n",
    "cv2.destroyAllWindows()"
   ]
  },
  {
   "cell_type": "code",
   "execution_count": null,
   "metadata": {},
   "outputs": [],
   "source": []
  }
 ],
 "metadata": {
  "kernelspec": {
   "display_name": "Python 3",
   "language": "python",
   "name": "python3"
  },
  "language_info": {
   "codemirror_mode": {
    "name": "ipython",
    "version": 3
   },
   "file_extension": ".py",
   "mimetype": "text/x-python",
   "name": "python",
   "nbconvert_exporter": "python",
   "pygments_lexer": "ipython3",
   "version": "3.7.3"
  }
 },
 "nbformat": 4,
 "nbformat_minor": 2
}
